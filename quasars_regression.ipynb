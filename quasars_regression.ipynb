{
 "cells": [
  {
   "cell_type": "markdown",
   "id": "7f8b01b1-aee4-4df7-8ac7-b90c7ff30543",
   "metadata": {},
   "source": [
    "# **Regression models on the data of quasar candidates by G. Richards et al., ApJS, 219, 39 (2015)**"
   ]
  },
  {
   "cell_type": "markdown",
   "id": "e0de3806-bb56-421b-8bb6-0a6334fafa3d",
   "metadata": {},
   "source": [
    "**Author: Franciszek Humieja**"
   ]
  },
  {
   "cell_type": "code",
   "execution_count": 13,
   "id": "e256017d-5797-4e32-8eae-edf9f1903733",
   "metadata": {},
   "outputs": [],
   "source": [
    "import pandas as pd\n",
    "import matplotlib.pylab as plt"
   ]
  },
  {
   "cell_type": "markdown",
   "id": "501cae71-8e73-4174-b732-f629d6d12f8a",
   "metadata": {},
   "source": [
    "# 1. About the Data"
   ]
  },
  {
   "cell_type": "markdown",
   "id": "dc980d9e-23b0-44a8-a31b-f2be31dd2c71",
   "metadata": {},
   "source": [
    "The data I am going to investigate is the real astrophysical catalog of candidates for quasi-stellar objects (QSO or quasars) prepared by G. Richards et al. 2015 ApJS 219 39. This data set contains a catalog of astrophysical objects that are likely to be quasars but lack unambiguous spectroscopic confirmation."
   ]
  },
  {
   "cell_type": "markdown",
   "id": "13f40264-b265-407f-a762-ac864f84088d",
   "metadata": {},
   "source": [
    "The more detailed description of the analysis and resulting data of Richards et al. is available in [my report of the exploratory data analysis (EDA) of this data set](https://github.com/frank01101/quasar_candidates/blob/main/quasars-report.pdf). Moreover, the PDF report summarizes main results obtained in [my Jupyter notebook with all EDA calculations](https://github.com/frank01101/quasar_candidates/blob/main/quasars_eda.ipynb). The notebook takes the [original data of Richards et al.](https://cdsarc.cds.unistra.fr/ftp/J/ApJS/219/39/) (the file `cand.dat.gz`) and performs EDA, consisting of:\n",
    "1. data wrangling,\n",
    "2. data cleaning:\n",
    "   1. whitespaces removing,\n",
    "   2. handling duplicates,\n",
    "   3. handling missing values,\n",
    "   4. handling outliers,\n",
    "3. feature engineering:\n",
    "   1. calculating new features motivated by physics: colors,\n",
    "   2. calculating polynomials of features,\n",
    "   3. feature scaling,\n",
    "   4. one-hot encoding,\n",
    "4. numerical and visual analysis of main correlations,\n",
    "5. significance testing of statistical hypotheses.\n",
    "\n",
    "After performing these steps, the notebook exports the cleaned data as `cand_cleaned.csv` file that is the input data for the regression analysis below."
   ]
  },
  {
   "cell_type": "markdown",
   "id": "e20556c2-d3d7-493b-916b-026fb4f86ee0",
   "metadata": {},
   "source": [
    "Let us start with importing the cleaned catalog of quasar candidates."
   ]
  },
  {
   "cell_type": "code",
   "execution_count": 2,
   "id": "5594c756-afb3-47b9-8353-9a2c124d5825",
   "metadata": {},
   "outputs": [
    {
     "data": {
      "text/html": [
       "<div>\n",
       "<style scoped>\n",
       "    .dataframe tbody tr th:only-of-type {\n",
       "        vertical-align: middle;\n",
       "    }\n",
       "\n",
       "    .dataframe tbody tr th {\n",
       "        vertical-align: top;\n",
       "    }\n",
       "\n",
       "    .dataframe thead th {\n",
       "        text-align: right;\n",
       "    }\n",
       "</style>\n",
       "<table border=\"1\" class=\"dataframe\">\n",
       "  <thead>\n",
       "    <tr style=\"text-align: right;\">\n",
       "      <th></th>\n",
       "      <th>RAdeg</th>\n",
       "      <th>DEdeg</th>\n",
       "      <th>Class</th>\n",
       "      <th>zsp</th>\n",
       "      <th>umag</th>\n",
       "      <th>gmag</th>\n",
       "      <th>rmag</th>\n",
       "      <th>imag</th>\n",
       "      <th>zmag</th>\n",
       "      <th>3.6mag</th>\n",
       "      <th>...</th>\n",
       "      <th>e_z-3.6</th>\n",
       "      <th>e_3.6-4.5</th>\n",
       "      <th>log_u-g</th>\n",
       "      <th>log_g-r</th>\n",
       "      <th>log_r-i</th>\n",
       "      <th>e_log_u-g</th>\n",
       "      <th>e_log_g-r</th>\n",
       "      <th>e_log_r-i</th>\n",
       "      <th>robust</th>\n",
       "      <th>robust_contamin</th>\n",
       "    </tr>\n",
       "  </thead>\n",
       "  <tbody>\n",
       "    <tr>\n",
       "      <th>0</th>\n",
       "      <td>0.000629</td>\n",
       "      <td>35.517841</td>\n",
       "      <td>U</td>\n",
       "      <td>NaN</td>\n",
       "      <td>18.571</td>\n",
       "      <td>18.330</td>\n",
       "      <td>18.197</td>\n",
       "      <td>18.241</td>\n",
       "      <td>18.089</td>\n",
       "      <td>17.119</td>\n",
       "      <td>...</td>\n",
       "      <td>0.033106</td>\n",
       "      <td>0.043139</td>\n",
       "      <td>2.289323</td>\n",
       "      <td>1.290059</td>\n",
       "      <td>1.083837</td>\n",
       "      <td>0.003077</td>\n",
       "      <td>0.003114</td>\n",
       "      <td>0.004074</td>\n",
       "      <td>True</td>\n",
       "      <td>False</td>\n",
       "    </tr>\n",
       "    <tr>\n",
       "      <th>1</th>\n",
       "      <td>0.000831</td>\n",
       "      <td>15.197328</td>\n",
       "      <td>U</td>\n",
       "      <td>NaN</td>\n",
       "      <td>22.647</td>\n",
       "      <td>21.808</td>\n",
       "      <td>20.873</td>\n",
       "      <td>20.615</td>\n",
       "      <td>20.326</td>\n",
       "      <td>18.845</td>\n",
       "      <td>...</td>\n",
       "      <td>0.121433</td>\n",
       "      <td>0.104623</td>\n",
       "      <td>2.416402</td>\n",
       "      <td>1.489528</td>\n",
       "      <td>1.181114</td>\n",
       "      <td>0.034162</td>\n",
       "      <td>0.011258</td>\n",
       "      <td>0.012618</td>\n",
       "      <td>True</td>\n",
       "      <td>False</td>\n",
       "    </tr>\n",
       "    <tr>\n",
       "      <th>2</th>\n",
       "      <td>0.001527</td>\n",
       "      <td>27.732283</td>\n",
       "      <td>U</td>\n",
       "      <td>NaN</td>\n",
       "      <td>22.052</td>\n",
       "      <td>21.703</td>\n",
       "      <td>21.603</td>\n",
       "      <td>21.550</td>\n",
       "      <td>21.915</td>\n",
       "      <td>20.174</td>\n",
       "      <td>...</td>\n",
       "      <td>0.392868</td>\n",
       "      <td>0.316760</td>\n",
       "      <td>2.312791</td>\n",
       "      <td>1.280934</td>\n",
       "      <td>1.116125</td>\n",
       "      <td>0.036852</td>\n",
       "      <td>0.025557</td>\n",
       "      <td>0.036452</td>\n",
       "      <td>False</td>\n",
       "      <td>False</td>\n",
       "    </tr>\n",
       "    <tr>\n",
       "      <th>3</th>\n",
       "      <td>0.001914</td>\n",
       "      <td>9.385637</td>\n",
       "      <td>U</td>\n",
       "      <td>NaN</td>\n",
       "      <td>18.395</td>\n",
       "      <td>18.375</td>\n",
       "      <td>18.299</td>\n",
       "      <td>18.178</td>\n",
       "      <td>18.004</td>\n",
       "      <td>17.888</td>\n",
       "      <td>...</td>\n",
       "      <td>0.046957</td>\n",
       "      <td>0.060828</td>\n",
       "      <td>2.240536</td>\n",
       "      <td>1.274245</td>\n",
       "      <td>1.138153</td>\n",
       "      <td>0.008060</td>\n",
       "      <td>0.010024</td>\n",
       "      <td>0.010132</td>\n",
       "      <td>True</td>\n",
       "      <td>False</td>\n",
       "    </tr>\n",
       "    <tr>\n",
       "      <th>4</th>\n",
       "      <td>0.002595</td>\n",
       "      <td>31.328981</td>\n",
       "      <td>U</td>\n",
       "      <td>NaN</td>\n",
       "      <td>19.592</td>\n",
       "      <td>19.431</td>\n",
       "      <td>19.425</td>\n",
       "      <td>19.285</td>\n",
       "      <td>18.907</td>\n",
       "      <td>18.903</td>\n",
       "      <td>...</td>\n",
       "      <td>0.068000</td>\n",
       "      <td>0.100000</td>\n",
       "      <td>2.271783</td>\n",
       "      <td>1.254476</td>\n",
       "      <td>1.144223</td>\n",
       "      <td>0.005552</td>\n",
       "      <td>0.005449</td>\n",
       "      <td>0.007071</td>\n",
       "      <td>True</td>\n",
       "      <td>False</td>\n",
       "    </tr>\n",
       "    <tr>\n",
       "      <th>...</th>\n",
       "      <td>...</td>\n",
       "      <td>...</td>\n",
       "      <td>...</td>\n",
       "      <td>...</td>\n",
       "      <td>...</td>\n",
       "      <td>...</td>\n",
       "      <td>...</td>\n",
       "      <td>...</td>\n",
       "      <td>...</td>\n",
       "      <td>...</td>\n",
       "      <td>...</td>\n",
       "      <td>...</td>\n",
       "      <td>...</td>\n",
       "      <td>...</td>\n",
       "      <td>...</td>\n",
       "      <td>...</td>\n",
       "      <td>...</td>\n",
       "      <td>...</td>\n",
       "      <td>...</td>\n",
       "      <td>...</td>\n",
       "      <td>...</td>\n",
       "    </tr>\n",
       "    <tr>\n",
       "      <th>885498</th>\n",
       "      <td>359.999115</td>\n",
       "      <td>28.954735</td>\n",
       "      <td>U</td>\n",
       "      <td>NaN</td>\n",
       "      <td>21.994</td>\n",
       "      <td>21.351</td>\n",
       "      <td>21.391</td>\n",
       "      <td>21.311</td>\n",
       "      <td>20.869</td>\n",
       "      <td>19.902</td>\n",
       "      <td>...</td>\n",
       "      <td>0.181959</td>\n",
       "      <td>0.210874</td>\n",
       "      <td>2.375500</td>\n",
       "      <td>1.241269</td>\n",
       "      <td>1.124930</td>\n",
       "      <td>0.022694</td>\n",
       "      <td>0.015261</td>\n",
       "      <td>0.022988</td>\n",
       "      <td>False</td>\n",
       "      <td>False</td>\n",
       "    </tr>\n",
       "    <tr>\n",
       "      <th>885499</th>\n",
       "      <td>359.999115</td>\n",
       "      <td>1.647538</td>\n",
       "      <td>U</td>\n",
       "      <td>NaN</td>\n",
       "      <td>20.256</td>\n",
       "      <td>20.296</td>\n",
       "      <td>19.944</td>\n",
       "      <td>19.722</td>\n",
       "      <td>19.793</td>\n",
       "      <td>18.962</td>\n",
       "      <td>...</td>\n",
       "      <td>0.119004</td>\n",
       "      <td>0.128226</td>\n",
       "      <td>2.227106</td>\n",
       "      <td>1.348592</td>\n",
       "      <td>1.170002</td>\n",
       "      <td>0.013592</td>\n",
       "      <td>0.011378</td>\n",
       "      <td>0.012603</td>\n",
       "      <td>True</td>\n",
       "      <td>False</td>\n",
       "    </tr>\n",
       "    <tr>\n",
       "      <th>885500</th>\n",
       "      <td>359.999207</td>\n",
       "      <td>-4.507331</td>\n",
       "      <td>U</td>\n",
       "      <td>NaN</td>\n",
       "      <td>21.573</td>\n",
       "      <td>20.703</td>\n",
       "      <td>20.288</td>\n",
       "      <td>20.144</td>\n",
       "      <td>19.979</td>\n",
       "      <td>20.180</td>\n",
       "      <td>...</td>\n",
       "      <td>0.203443</td>\n",
       "      <td>0.477620</td>\n",
       "      <td>2.422808</td>\n",
       "      <td>1.364815</td>\n",
       "      <td>1.145496</td>\n",
       "      <td>0.016115</td>\n",
       "      <td>0.007261</td>\n",
       "      <td>0.008558</td>\n",
       "      <td>False</td>\n",
       "      <td>False</td>\n",
       "    </tr>\n",
       "    <tr>\n",
       "      <th>885501</th>\n",
       "      <td>359.999756</td>\n",
       "      <td>-9.776147</td>\n",
       "      <td>U</td>\n",
       "      <td>NaN</td>\n",
       "      <td>21.366</td>\n",
       "      <td>21.403</td>\n",
       "      <td>21.133</td>\n",
       "      <td>21.157</td>\n",
       "      <td>21.024</td>\n",
       "      <td>19.076</td>\n",
       "      <td>...</td>\n",
       "      <td>0.303058</td>\n",
       "      <td>0.198565</td>\n",
       "      <td>2.227779</td>\n",
       "      <td>1.327075</td>\n",
       "      <td>1.090580</td>\n",
       "      <td>0.023125</td>\n",
       "      <td>0.017077</td>\n",
       "      <td>0.029457</td>\n",
       "      <td>False</td>\n",
       "      <td>False</td>\n",
       "    </tr>\n",
       "    <tr>\n",
       "      <th>885502</th>\n",
       "      <td>359.999756</td>\n",
       "      <td>20.721079</td>\n",
       "      <td>U</td>\n",
       "      <td>NaN</td>\n",
       "      <td>20.086</td>\n",
       "      <td>20.126</td>\n",
       "      <td>20.110</td>\n",
       "      <td>19.909</td>\n",
       "      <td>19.770</td>\n",
       "      <td>19.520</td>\n",
       "      <td>...</td>\n",
       "      <td>0.148499</td>\n",
       "      <td>0.190830</td>\n",
       "      <td>2.227106</td>\n",
       "      <td>1.257324</td>\n",
       "      <td>1.163463</td>\n",
       "      <td>0.014041</td>\n",
       "      <td>0.011107</td>\n",
       "      <td>0.015125</td>\n",
       "      <td>True</td>\n",
       "      <td>False</td>\n",
       "    </tr>\n",
       "  </tbody>\n",
       "</table>\n",
       "<p>885449 rows × 81 columns</p>\n",
       "</div>"
      ],
      "text/plain": [
       "             RAdeg      DEdeg Class  zsp    umag    gmag    rmag    imag  \\\n",
       "0         0.000629  35.517841     U  NaN  18.571  18.330  18.197  18.241   \n",
       "1         0.000831  15.197328     U  NaN  22.647  21.808  20.873  20.615   \n",
       "2         0.001527  27.732283     U  NaN  22.052  21.703  21.603  21.550   \n",
       "3         0.001914   9.385637     U  NaN  18.395  18.375  18.299  18.178   \n",
       "4         0.002595  31.328981     U  NaN  19.592  19.431  19.425  19.285   \n",
       "...            ...        ...   ...  ...     ...     ...     ...     ...   \n",
       "885498  359.999115  28.954735     U  NaN  21.994  21.351  21.391  21.311   \n",
       "885499  359.999115   1.647538     U  NaN  20.256  20.296  19.944  19.722   \n",
       "885500  359.999207  -4.507331     U  NaN  21.573  20.703  20.288  20.144   \n",
       "885501  359.999756  -9.776147     U  NaN  21.366  21.403  21.133  21.157   \n",
       "885502  359.999756  20.721079     U  NaN  20.086  20.126  20.110  19.909   \n",
       "\n",
       "          zmag  3.6mag  ...   e_z-3.6  e_3.6-4.5   log_u-g   log_g-r  \\\n",
       "0       18.089  17.119  ...  0.033106   0.043139  2.289323  1.290059   \n",
       "1       20.326  18.845  ...  0.121433   0.104623  2.416402  1.489528   \n",
       "2       21.915  20.174  ...  0.392868   0.316760  2.312791  1.280934   \n",
       "3       18.004  17.888  ...  0.046957   0.060828  2.240536  1.274245   \n",
       "4       18.907  18.903  ...  0.068000   0.100000  2.271783  1.254476   \n",
       "...        ...     ...  ...       ...        ...       ...       ...   \n",
       "885498  20.869  19.902  ...  0.181959   0.210874  2.375500  1.241269   \n",
       "885499  19.793  18.962  ...  0.119004   0.128226  2.227106  1.348592   \n",
       "885500  19.979  20.180  ...  0.203443   0.477620  2.422808  1.364815   \n",
       "885501  21.024  19.076  ...  0.303058   0.198565  2.227779  1.327075   \n",
       "885502  19.770  19.520  ...  0.148499   0.190830  2.227106  1.257324   \n",
       "\n",
       "         log_r-i  e_log_u-g  e_log_g-r  e_log_r-i  robust  robust_contamin  \n",
       "0       1.083837   0.003077   0.003114   0.004074    True            False  \n",
       "1       1.181114   0.034162   0.011258   0.012618    True            False  \n",
       "2       1.116125   0.036852   0.025557   0.036452   False            False  \n",
       "3       1.138153   0.008060   0.010024   0.010132    True            False  \n",
       "4       1.144223   0.005552   0.005449   0.007071    True            False  \n",
       "...          ...        ...        ...        ...     ...              ...  \n",
       "885498  1.124930   0.022694   0.015261   0.022988   False            False  \n",
       "885499  1.170002   0.013592   0.011378   0.012603    True            False  \n",
       "885500  1.145496   0.016115   0.007261   0.008558   False            False  \n",
       "885501  1.090580   0.023125   0.017077   0.029457   False            False  \n",
       "885502  1.163463   0.014041   0.011107   0.015125    True            False  \n",
       "\n",
       "[885449 rows x 81 columns]"
      ]
     },
     "execution_count": 2,
     "metadata": {},
     "output_type": "execute_result"
    }
   ],
   "source": [
    "catalog = pd.read_csv('cand_cleaned.csv', index_col=0)\n",
    "catalog"
   ]
  },
  {
   "cell_type": "code",
   "execution_count": 3,
   "id": "3b49ada4-8ae8-40f6-bcbc-77aba26acf92",
   "metadata": {},
   "outputs": [
    {
     "name": "stdout",
     "output_type": "stream",
     "text": [
      "<class 'pandas.core.frame.DataFrame'>\n",
      "Index: 885449 entries, 0 to 885502\n",
      "Data columns (total 81 columns):\n",
      " #   Column           Non-Null Count   Dtype  \n",
      "---  ------           --------------   -----  \n",
      " 0   RAdeg            885449 non-null  float64\n",
      " 1   DEdeg            885449 non-null  float64\n",
      " 2   Class            885449 non-null  object \n",
      " 3   zsp              151350 non-null  float64\n",
      " 4   umag             885449 non-null  float64\n",
      " 5   gmag             885449 non-null  float64\n",
      " 6   rmag             885449 non-null  float64\n",
      " 7   imag             885449 non-null  float64\n",
      " 8   zmag             885449 non-null  float64\n",
      " 9   3.6mag           885449 non-null  float64\n",
      " 10  4.5mag           885449 non-null  float64\n",
      " 11  e_umag           885449 non-null  float64\n",
      " 12  e_gmag           885449 non-null  float64\n",
      " 13  e_rmag           885449 non-null  float64\n",
      " 14  e_imag           885449 non-null  float64\n",
      " 15  e_zmag           885449 non-null  float64\n",
      " 16  e_3.6mag         885449 non-null  float64\n",
      " 17  e_4.5mag         885449 non-null  float64\n",
      " 18  Fu               885449 non-null  float64\n",
      " 19  Fg               885449 non-null  float64\n",
      " 20  Fr               885449 non-null  float64\n",
      " 21  Fi               885449 non-null  float64\n",
      " 22  Fz               885449 non-null  float64\n",
      " 23  F3.6             885449 non-null  float64\n",
      " 24  F4.5             885449 non-null  float64\n",
      " 25  e_Fu             885449 non-null  float64\n",
      " 26  e_Fg             885449 non-null  float64\n",
      " 27  e_Fr             885449 non-null  float64\n",
      " 28  e_Fi             885449 non-null  float64\n",
      " 29  e_Fz             885449 non-null  float64\n",
      " 30  e_F3.6           885449 non-null  float64\n",
      " 31  e_F4.5           885449 non-null  float64\n",
      " 32  Ymag             140825 non-null  float64\n",
      " 33  Jmag             171831 non-null  float64\n",
      " 34  Hmag             171831 non-null  float64\n",
      " 35  Kmag             171831 non-null  float64\n",
      " 36  e_Ymag           140825 non-null  float64\n",
      " 37  e_Jmag           171831 non-null  float64\n",
      " 38  e_Hmag           171831 non-null  float64\n",
      " 39  e_Kmag           171831 non-null  float64\n",
      " 40  FUV              75937 non-null   float64\n",
      " 41  NUV              199824 non-null  float64\n",
      " 42  e_FUV            75937 non-null   float64\n",
      " 43  e_NUV            199824 non-null  float64\n",
      " 44  gisig            885382 non-null  float64\n",
      " 45  Au               885449 non-null  float64\n",
      " 46  den*             885449 non-null  float64\n",
      " 47  denq             885449 non-null  float64\n",
      " 48  b_zphO           885449 non-null  float64\n",
      " 49  zphO             885449 non-null  float64\n",
      " 50  B_zphO           885449 non-null  float64\n",
      " 51  zphOP            885449 non-null  float64\n",
      " 52  b_zphIR          170723 non-null  float64\n",
      " 53  zphIR            171831 non-null  float64\n",
      " 54  B_zphIR          171831 non-null  float64\n",
      " 55  zphIRP           171831 non-null  float64\n",
      " 56  Leg              885449 non-null  int64  \n",
      " 57  Uni              885449 non-null  int64  \n",
      " 58  Prim             885449 non-null  int64  \n",
      " 59  pm               129213 non-null  float64\n",
      " 60  DB               885449 non-null  int64  \n",
      " 61  u-g              885449 non-null  float64\n",
      " 62  g-r              885449 non-null  float64\n",
      " 63  r-i              885449 non-null  float64\n",
      " 64  i-z              885449 non-null  float64\n",
      " 65  z-3.6            885449 non-null  float64\n",
      " 66  3.6-4.5          885449 non-null  float64\n",
      " 67  e_u-g            885449 non-null  float64\n",
      " 68  e_g-r            885449 non-null  float64\n",
      " 69  e_r-i            885449 non-null  float64\n",
      " 70  e_i-z            885449 non-null  float64\n",
      " 71  e_z-3.6          885449 non-null  float64\n",
      " 72  e_3.6-4.5        885449 non-null  float64\n",
      " 73  log_u-g          885449 non-null  float64\n",
      " 74  log_g-r          885449 non-null  float64\n",
      " 75  log_r-i          885449 non-null  float64\n",
      " 76  e_log_u-g        885449 non-null  float64\n",
      " 77  e_log_g-r        885449 non-null  float64\n",
      " 78  e_log_r-i        885449 non-null  float64\n",
      " 79  robust           885449 non-null  bool   \n",
      " 80  robust_contamin  885449 non-null  bool   \n",
      "dtypes: bool(2), float64(74), int64(4), object(1)\n",
      "memory usage: 542.1+ MB\n"
     ]
    }
   ],
   "source": [
    "catalog.info()"
   ]
  },
  {
   "cell_type": "markdown",
   "id": "6123afcc-c8a2-485d-ab7d-50913d06027a",
   "metadata": {},
   "source": [
    "The most important features are:\n",
    "* `RAdeg` and `DEdeg` – the celestial coordinates (right ascension and declination) of an object in degrees.\n",
    "* `Class` – the spectral classification result of an object. If the spectral analysis was available, the object was classified either as quasar (_QSO_), galaxy (_GALAXY_), star (_STAR_), compact emission line galaxy (_CELG_) or hard to interpret (_??_). Otherwise, if no spectrum is provided, the object is unclassified (_U_).\n",
    "* `zsp` – spectroscopic redshift for the objects with spectrum available.\n",
    "* `umag`, ..., `zmag` – _SDSS_ magnitudes in optical and near-infrared _u, g, r, i_ and _z_ passbands.\n",
    "* `3.6mag` and `4.5mag` – _Spitzer_ magnitudes in mid-infrared _ch1_ and _ch2_ passbands (having effective wavelength midpoints at $3.6\\,\\mathrm{\\mu m}$ and $4.5\\,\\mathrm{\\mu m}$, respectively).\n",
    "* `Ymag`, ..., `Kmag` – _UKIDSS_ and _VHS_ magnitudes in near-infrared _Y, J, H_ and _K_ passbands. Provided to only a fraction of objects.\n",
    "* `FUV` and `NUV` – _GALEX_ magnitudes in ultra-violet passbands. Provided to only a fraction of objects.\n",
    "* Columns starting with `e_` – standard errors (uncertainties) of the corresponding values.\n",
    "* `gisig` – an indicator of distance (in units of confidence level) from the average curve in a regression-like problem of finding photometric redshift.\n",
    "* `zphO` – the best estimate for photometric redshift calculated through regression trained with a relationship between spectroscopic redshift and _ugriz_ magnitudes. \n",
    "  * `b_zphO` – the minimum estimate for photometric redshift (_ugriz_).\n",
    "  * `B_zphO` – the maximum estimate for photometric redshift (_ugriz_).\n",
    "  * `zphOP` – a probability of the true redshift to be between minimum and maximum estimates of photometric redshift (_ugriz_).\n",
    "* `zphIR` – similar to `zphO` but trained using _ugrizJHK_ magnitudes. Available only for those sources with _JHK_ photometry performed.\n",
    "* `pm` – proper motion (speed of motion in the sky) of an object in milliarcseconds per year.\n",
    "* `u-g`, ..., `3.6-4.5` – colors, which are differences between magnitudes in different passbands.\n",
    "* `robust` – if an object is “robust”, according to specifications given by Richards et al. (2015).\n",
    "* `robust_contamin` – “robust” objects that were spectroscopically classified not to be quasars (contaminants)."
   ]
  },
  {
   "cell_type": "markdown",
   "id": "38fb3daa-0641-460b-b9d3-5ddd564c437e",
   "metadata": {},
   "source": [
    "The classification conditions for the “robust” sources are as follows (Richards et al., 2015):\n",
    "\n",
    "1. `zphOP` $ > 0.8 $ and\n",
    "2. $abs($ `gisig` $) \\leq 0.95 $.\n",
    "\n",
    "Moreover, for high-redshift objects, $3.5<z<5$, the additional conditions are:\n",
    "\n",
    "3. `NUV` and `FUV` are _NA_ (nondetections in _GALEX_ – real high-$z$ quasars are unlikely to be detected) and\n",
    "4. `imag` $< 22$ (point-like objects of the 22nd or greated magnitude have a significant probality of being galaxies at these redshifts)."
   ]
  },
  {
   "cell_type": "markdown",
   "id": "965ca54c-0f43-4018-af41-d86b445fec0d",
   "metadata": {},
   "source": [
    "# 2. Objectives"
   ]
  },
  {
   "cell_type": "markdown",
   "id": "229fe3bf-a975-45e6-9f4f-3f9bf1367b1d",
   "metadata": {},
   "source": [
    "The main objective of this analysis is to investigate correlations between color variables and redshift for the purpose of predicting unknown redshift from easy-to-obtain color information by training various linear regression models. A successful model like this would be very helpful in astrophysics because many objects lack spectroscopic observations and, consequently, information of their redshift."
   ]
  },
  {
   "cell_type": "markdown",
   "id": "76f330f9-cfaa-436f-a594-1e3857cb4213",
   "metadata": {},
   "source": [
    "The variables of our interest are _colors_: `u-g`, ..., `3.6-4.5`, along with their uncertainties `e_u-g`, ..., `e_3.6-4.5`, and _spectroscopic redshift_, `zsp`, which has been measured for $151350$ objects out of all $885449$ candidates. Moreover, all the objects have _photometric redshift_, `zphO` (and `zphIR` for $171831$ objects), calculated independently by authors of the cited paper from the relationship between magnitudes and spectroscopic redshift. This variable can be a test for the values of redshift we will derive from our regression problems, especially for the robust subset of data for which the spectroscopic redshift estimate is believed to be more reliable."
   ]
  },
  {
   "cell_type": "markdown",
   "id": "4882226b-38b6-49c0-b37c-1061893dabb7",
   "metadata": {},
   "source": [
    "# 3. Linear Regression Models"
   ]
  },
  {
   "cell_type": "markdown",
   "id": "ffe4f60b-41da-4e86-bfaf-e444f35dbb94",
   "metadata": {},
   "source": [
    "## 3.1. Feature engineering"
   ]
  },
  {
   "cell_type": "markdown",
   "id": "af36c1d9-449c-48a2-9a7e-bcfcb8b27065",
   "metadata": {},
   "source": [
    "The preceding notebook with EDA of this dataset showed that the color variables had skewed distributions, but it lacked the boxcox transformation to lessen the skewness. Let us perform this short feature engineering now."
   ]
  },
  {
   "cell_type": "markdown",
   "id": "54409091-204c-4b7c-ba75-998891e8a153",
   "metadata": {},
   "source": [
    "First of all, we will define a bunch of useful masks."
   ]
  },
  {
   "cell_type": "code",
   "execution_count": 8,
   "id": "5a5b3c60-bb56-4f75-a0d5-c6d04f9343bf",
   "metadata": {},
   "outputs": [],
   "source": [
    "colors = pd.Index(['u-g', 'g-r', 'r-i', 'i-z', 'z-3.6', '3.6-4.5'])\n",
    "e_colors = pd.Index(['e_u-g', 'e_g-r', 'e_r-i', 'e_i-z', 'e_z-3.6', 'e_3.6-4.5'])"
   ]
  },
  {
   "cell_type": "code",
   "execution_count": 47,
   "id": "2a709468-5c65-491d-b999-9037441200a0",
   "metadata": {},
   "outputs": [],
   "source": [
    "spectro = catalog['zsp'].notna()\n",
    "low_z = (catalog['zsp']>=0.0) & (catalog['zsp']<2.2)\n",
    "mid_z = (catalog['zsp']>=2.2) & (catalog['zsp']<3.5)\n",
    "high_z = (catalog['zsp']>=3.5) & (catalog['zsp']<5.0)"
   ]
  },
  {
   "cell_type": "code",
   "execution_count": 25,
   "id": "a9e19ea1-6b9b-45b6-b9c1-a95242a7d689",
   "metadata": {},
   "outputs": [],
   "source": [
    "robust = catalog['robust']"
   ]
  },
  {
   "cell_type": "code",
   "execution_count": 16,
   "id": "a4080f70-4da3-443b-804c-cd767f4b973b",
   "metadata": {},
   "outputs": [
    {
     "data": {
      "image/png": "[encoded data removed]",
      "text/plain": [
       "<Figure size 640x480 with 6 Axes>"
      ]
     },
     "metadata": {},
     "output_type": "display_data"
    }
   ],
   "source": [
    "catalog.hist(column=colors, bins=100)\n",
    "plt.tight_layout()"
   ]
  },
  {
   "cell_type": "code",
   "execution_count": 48,
   "id": "bafa9660-f0b7-4241-a62f-bcba08319f72",
   "metadata": {},
   "outputs": [
    {
     "data": {
      "image/png": "[encoded data removed]",
      "text/plain": [
       "<Figure size 640x480 with 6 Axes>"
      ]
     },
     "metadata": {},
     "output_type": "display_data"
    }
   ],
   "source": [
    "catalog[spectro].hist(column=colors, bins=100)\n",
    "plt.tight_layout()"
   ]
  },
  {
   "cell_type": "code",
   "execution_count": 27,
   "id": "9f8c6716-804a-448f-a67d-d8e8e6309fca",
   "metadata": {},
   "outputs": [
    {
     "data": {
      "text/plain": [
       "u-g        2.728076\n",
       "g-r        2.881182\n",
       "r-i        1.628112\n",
       "i-z        0.393644\n",
       "z-3.6      0.107150\n",
       "3.6-4.5   -0.261799\n",
       "dtype: float64"
      ]
     },
     "execution_count": 27,
     "metadata": {},
     "output_type": "execute_result"
    }
   ],
   "source": [
    "catalog.skew(numeric_only=True)[colors]"
   ]
  },
  {
   "cell_type": "code",
   "execution_count": 49,
   "id": "318c5c32-391a-4ba6-a7c3-f704e1dc1e48",
   "metadata": {},
   "outputs": [
    {
     "data": {
      "text/plain": [
       "u-g        3.014246\n",
       "g-r        3.917629\n",
       "r-i        1.686553\n",
       "i-z        0.470460\n",
       "z-3.6      0.321496\n",
       "3.6-4.5   -0.439046\n",
       "dtype: float64"
      ]
     },
     "execution_count": 49,
     "metadata": {},
     "output_type": "execute_result"
    }
   ],
   "source": [
    "catalog[spectro].skew(numeric_only=True)[colors]"
   ]
  }
 ],
 "metadata": {
  "kernelspec": {
   "display_name": "Python 3 (ipykernel)",
   "language": "python",
   "name": "python3"
  },
  "language_info": {
   "codemirror_mode": {
    "name": "ipython",
    "version": 3
   },
   "file_extension": ".py",
   "mimetype": "text/x-python",
   "name": "python",
   "nbconvert_exporter": "python",
   "pygments_lexer": "ipython3",
   "version": "3.13.2"
  }
 },
 "nbformat": 4,
 "nbformat_minor": 5
}
